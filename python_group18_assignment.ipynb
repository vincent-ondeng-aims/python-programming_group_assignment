{
  "nbformat": 4,
  "nbformat_minor": 0,
  "metadata": {
    "colab": {
      "provenance": [],
      "include_colab_link": true
    },
    "kernelspec": {
      "name": "python3",
      "display_name": "Python 3"
    },
    "language_info": {
      "name": "python"
    }
  },
  "cells": [
    {
      "cell_type": "markdown",
      "metadata": {
        "id": "view-in-github",
        "colab_type": "text"
      },
      "source": [
        "<a href=\"https://colab.research.google.com/github/vincent-ondeng-aims/python-programming_group_assignment/blob/main/python_group18_assignment.ipynb\" target=\"_parent\"><img src=\"https://colab.research.google.com/assets/colab-badge.svg\" alt=\"Open In Colab\"/></a>"
      ]
    },
    {
      "cell_type": "code",
      "source": [
        "import csv\n",
        "import os"
      ],
      "metadata": {
        "id": "KOvMBS7TVRjg"
      },
      "execution_count": 1,
      "outputs": []
    },
    {
      "cell_type": "code",
      "execution_count": 2,
      "metadata": {
        "id": "7YvLvwMBPIzB"
      },
      "outputs": [],
      "source": [
        "def conson(X):\n",
        "  \"\"\"\n",
        "  This function\n",
        "  Arguments:\n",
        "\n",
        "  Return:\n",
        "  \"\"\"\n",
        "  #taking the first three consonants of the last name\n",
        "  vowels = [\"a\",\"e\",\"i\",\"o\",\"u\", \"A\",\"E\",\"I\",\"O\",\"U\"]\n",
        "  ID1=\"\"\n",
        "  x=\"\"\n",
        "  for i in range(len(X)):\n",
        "      if X[i] not in vowels:\n",
        "            x=x+X[i]\n",
        "  if len(x)<3:\n",
        "        x1=3-len(x)\n",
        "        x=x+\"X\"*x1\n",
        "        ID1=ID1+x\n",
        "  else:\n",
        "        ID1=ID1+x[:3]\n",
        "  return ID1"
      ]
    },
    {
      "cell_type": "code",
      "source": [
        "def three_letter(Y):\n",
        "  \"\"\"\n",
        "  This function...\n",
        "  Arguments:\n",
        "  Return:\n",
        "\n",
        "  \"\"\"\n",
        "    #taking the first three letters of the first name\n",
        "  Y1=\"\"\n",
        "  if len(Y)<3:\n",
        "       x2=3-len(Y)\n",
        "       Y1=Y+\"X\"*x2\n",
        "  else:\n",
        "       Y1=Y[:3]\n",
        "  return Y1"
      ],
      "metadata": {
        "id": "ZSgwTjFZPO0s"
      },
      "execution_count": 5,
      "outputs": []
    },
    {
      "cell_type": "code",
      "source": [
        "  def verify_list(csv_file, X):\n",
        "    \"\"\"\n",
        "    This function...\n",
        "    Arguments:\n",
        "    Return:\n",
        "\n",
        "    \"\"\"\n",
        "    # A function to verify whether an element X is in the CSV file\n",
        "    existing_ids = set()\n",
        "    if os.path.exists(csv_file):        # Checks if the csv file exists otherwise it skips this block\n",
        "        with open(csv_file, mode='r', newline='') as file:     # Open the CSV file in 'r' mode\n",
        "            reader = csv.reader(file)               #  Function parses the file into rows based on the delimiter (usually a comma in CSV files)\n",
        "            for row in reader:                      # Iterates through each row in the Csv file\n",
        "                existing_ids.add(row[0])  # Adds the first value of the row to our empty set (exixting_ids)\n",
        "\n",
        "    # Check if the ID exists and increment if needed\n",
        "    while X in existing_ids:\n",
        "        if (int(X[-1]) + 1) < 10 and int(X[-2]) == 0:\n",
        "            x33 = \"00\" + str(int(X[-1]) + 1)\n",
        "        elif 10 <= int(X[9:]) < 99 and int(X[-3]) == 0:\n",
        "            x33 = \"0\" + str(int(X[9:]) + 1)\n",
        "        elif int(X[8:]) >= 100 and int(X[8:]) < 1000:\n",
        "            x33 = str(int(X[8:]) + 1)\n",
        "        X = X.replace(X[8:], x33)\n",
        "        X = X.upper()\n",
        "\n",
        "    return existing_ids, X"
      ],
      "metadata": {
        "id": "O0eUBLxUPUJ0"
      },
      "execution_count": 16,
      "outputs": []
    },
    {
      "cell_type": "code",
      "source": [
        "  def ID_creation():\n",
        "    \"\"\"\n",
        "\n",
        "    \"\"\"\n",
        "    csv_file = 'registration_ids.csv'  # Path to the CSV file\n",
        "    while True:\n",
        "        answe = input(\"If you want to generate an ID, enter 'YES' and if you want to quit, enter 'NO': \")\n",
        "        if answe == \"NO\":\n",
        "            break\n",
        "        ID = \"\"\n",
        "        first_name = input(\"Enter your first name: \")\n",
        "        last_name = input(\"Enter your last name: \")\n",
        "        X1 = conson(last_name)\n",
        "        X2 = three_letter(first_name)\n",
        "        ID = ID + X1 + \"-\" + X2 + \"-\" + \"001\"\n",
        "        ID = ID.upper()\n",
        "\n",
        "        # Verify and generate a unique ID\n",
        "        existing_ids, unique_ID = verify_list(csv_file, ID)\n",
        "\n",
        "        # Write the unique ID and names to the CSV file\n",
        "        with open(csv_file, mode='a', newline='') as file:\n",
        "            writer = csv.writer(file)\n",
        "            writer.writerow([unique_ID, first_name, last_name])  # Write ID, first name, last name\n",
        "\n",
        "        print(unique_ID)\n",
        "\n",
        "# Run the ID creation function\n",
        "  ID_creation()"
      ],
      "metadata": {
        "id": "F0V-yQYvPa3-",
        "colab": {
          "base_uri": "https://localhost:8080/"
        },
        "outputId": "337781dc-03eb-4324-9c21-fd16186ce503"
      },
      "execution_count": 17,
      "outputs": [
        {
          "name": "stdout",
          "output_type": "stream",
          "text": [
            "If you want to generate an ID, enter 'YES' and if you want to quit, enter 'NO': NO\n"
          ]
        }
      ]
    }
  ]
}
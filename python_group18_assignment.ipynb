{
  "nbformat": 4,
  "nbformat_minor": 0,
  "metadata": {
    "colab": {
      "provenance": [],
      "include_colab_link": true
    },
    "kernelspec": {
      "name": "python3",
      "display_name": "Python 3"
    },
    "language_info": {
      "name": "python"
    }
  },
  "cells": [
    {
      "cell_type": "markdown",
      "metadata": {
        "id": "view-in-github",
        "colab_type": "text"
      },
      "source": [
        "<a href=\"https://colab.research.google.com/github/vincent-ondeng-aims/python-programming_group_assignment/blob/main/python_group18_assignment.ipynb\" target=\"_parent\"><img src=\"https://colab.research.google.com/assets/colab-badge.svg\" alt=\"Open In Colab\"/></a>"
      ]
    },
    {
      "cell_type": "code",
      "execution_count": null,
      "metadata": {
        "id": "7YvLvwMBPIzB"
      },
      "outputs": [],
      "source": [
        "def conson(X):\n",
        "    #taking the first three consonants of the last name\n",
        "    vowels=[\"a\",\"e\",\"i\",\"o\",\"u\", \"A\",\"E\",\"I\",\"O\",\"U\"]\n",
        "    ID1=\"\"\n",
        "    x=\"\"\n",
        "    for i in range(len(X)):\n",
        "        if X[i] not in vowels:\n",
        "            x=x+X[i]\n",
        "    if len(x)<3:\n",
        "        x1=3-len(x)\n",
        "        x=x+\"X\"*x1\n",
        "        ID1=ID1+x\n",
        "    else:\n",
        "        ID1=ID1+x[:3]\n",
        "    return ID1"
      ]
    },
    {
      "cell_type": "code",
      "source": [
        "def three_letter(Y):\n",
        "    #taking the first three letters of the first name\n",
        "    Y1=\"\"\n",
        "    if len(Y)<3:\n",
        "        x2=3-len(Y)\n",
        "        Y1=Y+\"X\"*x2\n",
        "    else:\n",
        "        Y1=Y[:3]\n",
        "    return Y1"
      ],
      "metadata": {
        "id": "ZSgwTjFZPO0s"
      },
      "execution_count": null,
      "outputs": []
    },
    {
      "cell_type": "code",
      "source": [
        "def verify_list(L1,X):\n",
        "#A function to verify whether an element X is in the L\n",
        "    for i in range(len(L1)):\n",
        "        if X in L1:\n",
        "            #x3=int(X[-1])+1\n",
        "            if (int(X[-1])+1)<=10 and int(X[-2])==0:\n",
        "                x33=\"00\"+str(int(X[-1])+1)\n",
        "            elif 10<=int(X[9:])<100 and int(X[-3])==0:\n",
        "                #x3=int(X[9:])+1\n",
        "                x33=\"0\"+str(int(X[9:])+1)\n",
        "            elif int(X[8:])>=100 and int(X[8:])<1000:\n",
        "                #X3=int(X)+1\n",
        "                x33=str(int(X[8:])+1)\n",
        "            X=X.replace(X[8:],x33)\n",
        "            X=X.upper()\n",
        "    L1.append(X)\n",
        "    return L1, X"
      ],
      "metadata": {
        "id": "O0eUBLxUPUJ0"
      },
      "execution_count": null,
      "outputs": []
    },
    {
      "cell_type": "code",
      "source": [
        "def ID_creation():\n",
        "    L=[0]\n",
        "    while True:\n",
        "        answe=input(\"If you want to generate an ID, enter 'YES' and if you want to quite, enter 'NO': \")\n",
        "        if answe==\"NO\":\n",
        "            break\n",
        "        ID=\"\"\n",
        "        first_name=input(\"Enter your first name: \")\n",
        "        last_name=input(\"Enter your last name: \")\n",
        "        X1=conson(last_name)\n",
        "        X2=three_letter(first_name)\n",
        "        ID=ID+X1+\"-\"+X2+\"-\"+\"001\"\n",
        "        ID=ID.upper()\n",
        "        Y1=verify_list(L,ID)\n",
        "        print(Y1[-1])"
      ],
      "metadata": {
        "id": "F0V-yQYvPa3-"
      },
      "execution_count": null,
      "outputs": []
    },
    {
      "cell_type": "code",
      "source": [
        "ID_creation()"
      ],
      "metadata": {
        "id": "59yoo3PFQ6bf"
      },
      "execution_count": null,
      "outputs": []
    }
  ]
}
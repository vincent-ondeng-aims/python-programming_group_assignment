{
 "cells": [
  {
   "cell_type": "code",
   "execution_count": 28,
   "id": "artistic-diamond",
   "metadata": {},
   "outputs": [],
   "source": [
    "def conson(X):\n",
    "    #taking the first three consonants of the last name\n",
    "    vowels=[\"a\",\"e\",\"i\",\"o\",\"u\", \"A\",\"E\",\"I\",\"O\",\"U\"]\n",
    "    ID1=\"\"\n",
    "    x=\"\"\n",
    "    for i in range(len(X)):\n",
    "        if X[i] not in vowels:\n",
    "            x=x+X[i]       \n",
    "    if len(x)<3:\n",
    "        x1=3-len(x)\n",
    "        x=x+\"X\"*x1\n",
    "        ID1=ID1+x\n",
    "    else:\n",
    "        ID1=ID1+x[:3] \n",
    "    return ID1"
   ]
  },
  {
   "cell_type": "code",
   "execution_count": 29,
   "id": "arctic-coordinate",
   "metadata": {},
   "outputs": [],
   "source": [
    "def three_letter(Y):\n",
    "    #taking the first three letters of the first name\n",
    "    Y1=\"\"\n",
    "    if len(Y)<3:\n",
    "        x2=3-len(Y)\n",
    "        Y1=Y+\"X\"*x2\n",
    "    else:\n",
    "        Y1=Y[:3]\n",
    "    return Y1"
   ]
  },
  {
   "cell_type": "code",
   "execution_count": 58,
   "id": "prostate-deposit",
   "metadata": {},
   "outputs": [],
   "source": [
    "def verify_list(L1,X):\n",
    "#A function to verify whether an element X is in the L\n",
    "    for i in range(len(L1)):\n",
    "        if X in L1:\n",
    "            x3=int(X[-1])+1\n",
    "            if x3<10:\n",
    "                x33=\"00\"+str(x3)\n",
    "            elif 10<=x3<100:\n",
    "                x3=int(X[9:])+1\n",
    "                x33=\"0\"+str(x3)\n",
    "            elif x3>=100 and x3<1000:\n",
    "                X3=int(X)+1\n",
    "                x33=str(x3)\n",
    "            X=X.replace(X[8:],x33)\n",
    "            X=X.upper()\n",
    "    L1.append(X)\n",
    "    return L1, X"
   ]
  },
  {
   "cell_type": "code",
   "execution_count": 59,
   "id": "animated-civilian",
   "metadata": {},
   "outputs": [],
   "source": [
    "def ID_creation():\n",
    "    L=[0]\n",
    "    while True:\n",
    "        answe=input(\"If you want to generate an ID, enter 'YES' and if you want to quite, enter 'NO': \")\n",
    "        if answe==\"NO\":\n",
    "            break\n",
    "        ID=\"\"\n",
    "        first_name=input(\"Enter your first name: \")\n",
    "        last_name=input(\"Enter your last name: \")\n",
    "        X1=conson(last_name)\n",
    "        X2=three_letter(first_name)\n",
    "        ID=ID+X1+\"-\"+X2+\"-\"+\"001\"\n",
    "        ID=ID.upper()\n",
    "        Y1=verify_list(L,ID)\n",
    "        print(Y1[-1])"
   ]
  },
  {
   "cell_type": "code",
   "execution_count": 60,
   "id": "seventh-canada",
   "metadata": {},
   "outputs": [
    {
     "name": "stdout",
     "output_type": "stream",
     "text": [
      "If you want to generate an ID, enter 'YES' and if you want to quite, enter 'NO': YES \n",
      "Enter your first name: HANDSON\n",
      "Enter your last name: NSANI\n",
      "NSN-HAN-001\n",
      "If you want to generate an ID, enter 'YES' and if you want to quite, enter 'NO': YES\n",
      "Enter your first name: HANDSON\n",
      "Enter your last name: NSANI\n",
      "NSN-HAN-002\n",
      "If you want to generate an ID, enter 'YES' and if you want to quite, enter 'NO': YES\n",
      "Enter your first name: HANDSON\n",
      "Enter your last name: NSANI\n",
      "NSN-HAN-003\n",
      "If you want to generate an ID, enter 'YES' and if you want to quite, enter 'NO': YES\n",
      "Enter your first name: HANDSON\n",
      "Enter your last name: NSANI\n",
      "NSN-HAN-004\n",
      "If you want to generate an ID, enter 'YES' and if you want to quite, enter 'NO': YES\n",
      "Enter your first name: HANDSON\n",
      "Enter your last name: NSANI\n",
      "NSN-HAN-005\n",
      "If you want to generate an ID, enter 'YES' and if you want to quite, enter 'NO': YES\n",
      "Enter your first name: HANDSON\n",
      "Enter your last name: NSANI\n",
      "NSN-HAN-006\n",
      "If you want to generate an ID, enter 'YES' and if you want to quite, enter 'NO': YES\n",
      "Enter your first name: HANDSON\n",
      "Enter your last name: NSANI\n",
      "NSN-HAN-007\n",
      "If you want to generate an ID, enter 'YES' and if you want to quite, enter 'NO': YES\n",
      "Enter your first name: HANDSON\n",
      "Enter your last name: NSANI\n",
      "NSN-HAN-008\n",
      "If you want to generate an ID, enter 'YES' and if you want to quite, enter 'NO': YES\n",
      "Enter your first name: HANDSON\n",
      "Enter your last name: NSANI\n",
      "NSN-HAN-009\n",
      "If you want to generate an ID, enter 'YES' and if you want to quite, enter 'NO': YES\n",
      "Enter your first name: HANDSON\n",
      "Enter your last name: NSANI\n",
      "NSN-HAN-010\n",
      "If you want to generate an ID, enter 'YES' and if you want to quite, enter 'NO': YES\n",
      "Enter your first name: HANDSON\n",
      "Enter your last name: NSANI\n",
      "NSN-HAN-002\n",
      "If you want to generate an ID, enter 'YES' and if you want to quite, enter 'NO': NO\n"
     ]
    }
   ],
   "source": [
    "ID_creation()"
   ]
  },
  {
   "cell_type": "code",
   "execution_count": null,
   "id": "optional-fellow",
   "metadata": {},
   "outputs": [],
   "source": []
  },
  {
   "cell_type": "code",
   "execution_count": null,
   "id": "juvenile-article",
   "metadata": {},
   "outputs": [],
   "source": []
  },
  {
   "cell_type": "code",
   "execution_count": null,
   "id": "adaptive-printer",
   "metadata": {},
   "outputs": [],
   "source": []
  }
 ],
 "metadata": {
  "kernelspec": {
   "display_name": "Python 3",
   "language": "python",
   "name": "python3"
  },
  "language_info": {
   "codemirror_mode": {
    "name": "ipython",
    "version": 3
   },
   "file_extension": ".py",
   "mimetype": "text/x-python",
   "name": "python",
   "nbconvert_exporter": "python",
   "pygments_lexer": "ipython3",
   "version": "3.9.2"
  }
 },
 "nbformat": 4,
 "nbformat_minor": 5
}
